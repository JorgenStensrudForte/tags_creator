{
 "cells": [
  {
   "cell_type": "code",
   "execution_count": 2,
   "metadata": {},
   "outputs": [],
   "source": [
    "import pandas as pd"
   ]
  },
  {
   "cell_type": "code",
   "execution_count": 3,
   "metadata": {},
   "outputs": [],
   "source": []
  },
  {
   "cell_type": "code",
   "execution_count": 17,
   "metadata": {},
   "outputs": [],
   "source": [
    "import ast\n",
    "def extract_tags(tags_str):\n",
    "    tags_obj = ast.literal_eval(tags_str)\n",
    "    if isinstance(tags_obj, dict):\n",
    "        tags_values = tags_obj.values()\n",
    "    elif isinstance(tags_obj, tuple):\n",
    "        tags_values = tags_obj\n",
    "    else:\n",
    "        raise ValueError(f\"Unexpected type {type(tags_obj)}: {tags_obj}\")\n",
    "    \n",
    "    tags_list = []\n",
    "    for value in tags_values:\n",
    "        if isinstance(value, list):\n",
    "            tags_list.append(', '.join(map(str.strip, value)))\n",
    "        elif isinstance(value, dict):\n",
    "            tags_list.append(str(value))\n",
    "        else:\n",
    "            tags_list.append(value.strip())\n",
    "    return ', '.join(tags_list)"
   ]
  },
  {
   "cell_type": "code",
   "execution_count": 21,
   "metadata": {},
   "outputs": [],
   "source": [
    "df_new = pd.read_excel(\"data/tags_27_11.xlsx\")\n",
    "#rename columns tags to product_tags\n",
    "df_new = df_new.rename(columns={\"tags\": \"product_tags\"})\n",
    "df_new['product_tags'] = df_new['product_tags'].apply(extract_tags)\n",
    "\n",
    "df_new.to_csv(\"data/tags_27_11.csv\", index=False)"
   ]
  },
  {
   "cell_type": "code",
   "execution_count": 7,
   "metadata": {},
   "outputs": [
    {
     "name": "stdout",
     "output_type": "stream",
     "text": [
      "298\n",
      "211\n"
     ]
    }
   ],
   "source": [
    "df_with_many_tags = pd.read_csv(\"data/tags_30_11.csv\")\n",
    "print(len(df_with_many_tags))\n",
    "# df_with_many_tags['product_tags'] = df_with_many_tags['product_tags'].apply(extract_tags)\n",
    "# combine all the tags with same product_name into one row. Let the name be the same as the first row, but for tags, combine them into two lists of tags. For the category, combine them into a list of categories. For website_url, image_url, choose the first one. \n",
    "df_with_many_tags = df_with_many_tags.groupby('Product_Name').agg({\n",
    "    'product_tags': lambda x: ', '.join(set(map(lambda y: str(y).strip(), x))),\n",
    "    'Product category': lambda x: ', '.join(map(lambda y: str(y).strip(), x)),\n",
    "    'url': 'first',\n",
    "    'image_url': 'first'\n",
    "}).reset_index()\n",
    "print(len(df_with_many_tags))\n",
    "\n",
    "# save to excel\n",
    "df_with_many_tags.to_excel(\"data/df_with_many_tags_30_11.xlsx\", index=False)\n",
    "df_with_many_tags.to_csv(\"data/df_with_many_tags_30_11.csv\", index=False)"
   ]
  },
  {
   "cell_type": "code",
   "execution_count": 8,
   "metadata": {},
   "outputs": [],
   "source": [
    "df_30_11 = pd.read_excel(\"data/tags_30_11.xlsx\")\n",
    "df_30_11.to_csv(\"data/tags_30_11.csv\", index=False)"
   ]
  },
  {
   "cell_type": "code",
   "execution_count": 11,
   "metadata": {},
   "outputs": [],
   "source": [
    "df_tags_splitted = df_30_11.assign(\n",
    "    **{\"Product category\": df_30_11[\"Product category\"].str.split(\",\")}\n",
    ").explode(\"Product category\")\n",
    "df_tags_splitted.to_excel(\"data/df_tags_splitted_30_11.xlsx\", index=False)\n",
    "df_tags_splitted.to_csv(\"data/df_tags_splitted_30_11.csv\", index=False)"
   ]
  },
  {
   "cell_type": "code",
   "execution_count": 12,
   "metadata": {},
   "outputs": [
    {
     "name": "stdout",
     "output_type": "stream",
     "text": [
      "264\n",
      "182\n"
     ]
    }
   ],
   "source": [
    "print(len(df_tags_splitted))\n",
    "print(len(df_30_11))"
   ]
  }
 ],
 "metadata": {
  "kernelspec": {
   "display_name": "tonality_test",
   "language": "python",
   "name": "python3"
  },
  "language_info": {
   "codemirror_mode": {
    "name": "ipython",
    "version": 3
   },
   "file_extension": ".py",
   "mimetype": "text/x-python",
   "name": "python",
   "nbconvert_exporter": "python",
   "pygments_lexer": "ipython3",
   "version": "3.11.5"
  }
 },
 "nbformat": 4,
 "nbformat_minor": 2
}
