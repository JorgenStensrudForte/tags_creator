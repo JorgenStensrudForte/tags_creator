{
 "cells": [
  {
   "cell_type": "code",
   "execution_count": 3,
   "metadata": {},
   "outputs": [],
   "source": [
    "import requests\n",
    "from bs4 import BeautifulSoup\n",
    "import pandas as pd \n",
    "import re\n",
    "import os\n",
    "import pdfplumber\n",
    "import json\n"
   ]
  },
  {
   "cell_type": "code",
   "execution_count": 4,
   "metadata": {},
   "outputs": [],
   "source": [
    "system_prompt = \"\"\"\n",
    "Given a set of technical specifications, please generate a corresponding JSON representation in this format/Structure: {\"heading\": \"Techniocal specifications heading\", \"values\": [/* List of specific values */]}. Let the 'heading' serves as a label, and 'values' represent specific details under each category. If no heading is included in the text, make your own headings that makes sense for the technical specifications and that groups several of the values. Use the following example and format as a guide:\n",
    "\n",
    "{\n",
    "  \"specifications\": {\n",
    "    \"Component Specifications\": [\n",
    "      {\"Component Name\": \"[Value]\"},\n",
    "      {\"Another Component\": \"[Value]\"}\n",
    "    ],\n",
    "    \"Environmental Specifications\": {\n",
    "      \"Operating temperature\": \"[Min-Max] [Unit]\",\n",
    "      \"Storage temperature\": \"[Min-Max] [Unit]\",\n",
    "      \"Operating humidity\": \"[Max] [Unit] non-condensing\",\n",
    "      \"Storage humidity\": \"Less than [Max] [Unit]\"\n",
    "    },\n",
    "    \"Power Requirements\": {\n",
    "      \"Voltage\": \"[Range] [Frequency] [Unit]\",\n",
    "      \"Power consumption\": \"[Max] [Unit]\"\n",
    "    },\n",
    "    \"Interfaces\": [\n",
    "      {\"Interface Type\": \"[Count]\"},\n",
    "      {\"Another Interface\": \"[Count]\"}\n",
    "    ],\n",
    "    \"Data Outputs\": {\n",
    "      \"Message format\": \"[Format]\",\n",
    "      \"Message type\": \"[Type]\"\n",
    "    }\n",
    "  }\n",
    "}\n",
    "\"\"\" "
   ]
  },
  {
   "cell_type": "code",
   "execution_count": 9,
   "metadata": {},
   "outputs": [],
   "source": [
    "def generate_technical_specs(text):\n",
    "    import os\n",
    "    from openai import OpenAI\n",
    "    from openai import AzureOpenAI\n",
    "    import pandas as pd\n",
    "\n",
    "\n",
    "    deployment_name = \"gpt-4-turbo-1106-preview\"  # This will correspond to the custom name you chose for your deployment when you deployed a model.\n",
    "\n",
    "\n",
    "    client = AzureOpenAI(\n",
    "        azure_endpoint=\"https://da-openai-test.openai.azure.com/\",\n",
    "        api_key=\"5a90b85ba420469c9b36438e238d70fe\",\n",
    "        api_version=\"2023-05-15\",\n",
    "    )\n",
    "\n",
    "    response = client.chat.completions.create(\n",
    "        model=deployment_name,\n",
    "        messages = [\n",
    "                {\n",
    "                    \"role\": \"system\",\n",
    "                    \"content\": system_prompt\n",
    "                },\n",
    "                {\n",
    "                    \"role\": \"user\",\n",
    "                    \"content\": f\"\"\"Given this set of technical specifications {text}, please generate a corresponding JSON representation in this format/Structure: \"heading\": \"Techniocal specifications heading\", \"values\": [/* List of specific values */].\"\"\"\n",
    "                }\n",
    "            ],\n",
    "        response_format={\"type\": \"json_object\"},\n",
    "    )\n",
    "\n",
    "    return response.choices[0].message.content.strip()\n",
    "\n"
   ]
  },
  {
   "cell_type": "code",
   "execution_count": 11,
   "metadata": {},
   "outputs": [
    {
     "name": "stdout",
     "output_type": "stream",
     "text": [
      "{\n",
      "  \"specifications\": {\n",
      "    \"Performance Power Specifications\": {\n",
      "      \"Heave accuracy (real-time)\": \"5 cm or 5%\",\n",
      "      \"Heave accuracy (delayed signal)\": \"2 cm or 2%\",\n",
      "      \"Position accuracy DGNSS\": \"0.5 m RMS or 1 m 95%\"\n",
      "    },\n",
      "    \"Weights and Dimensions\": {\n",
      "      \"GNSS antenna weight\": \"0.5 kg\",\n",
      "      \"GNSS antenna dimensions\": \"69 x 185 mm\"\n",
      "    },\n",
      "    \"Environmental Specifications\": {\n",
      "      \"Operational Temperature Range\": {\n",
      "        \"Processing Unit\": \"-15 to +55 ºC\",\n",
      "        \"HMI Unit\": \"+5 to +35 ºC\"\n",
      "      },\n",
      "      \"Storage Temperature Range\": {\n",
      "        \"Processing Unit\": \"-20 to +70 ºC\",\n",
      "        \"HMI Unit\": \"-10 to +40 ºC\"\n",
      "      },\n",
      "      \"Protection Ratings\": {\n",
      "        \"IMU\": \"IP 66\",\n",
      "        \"GNSS Antenna\": \"IP 66\",\n",
      "        \"Cables\": \"IP 67\",\n",
      "        \"Connectors\": \"IP 67\"\n",
      "      }\n",
      "    },\n",
      "    \"Communication Specifications\": {\n",
      "      \"UHF Radio Frequencies Range\": \"430 to 470 MHz\",\n",
      "      \"Communication Ports\": \"8 serial RS-232/RS-422 lines and 16 Ethernet\"\n",
      "    },\n",
      "    \"Data Outputs\": {\n",
      "      \"Data Update Rate\": \"Up to 200 Hz\"\n",
      "    },\n",
      "    \"Compliance Specifications\": {\n",
      "      \"Vibration Compliance\": \"IEC 60945/EN 60945\",\n",
      "      \"Electromagnetic Compatibility\": \"Compliant\"\n",
      "    }\n",
      "  }\n",
      "}\n"
     ]
    }
   ],
   "source": [
    "products = pd.read_excel(\"data/all_products_dropped_discontinuid.xlsx\")\n",
    "\n",
    "print(generate_technical_specs(products.iloc[0][\"Technical Specifications\"]))"
   ]
  },
  {
   "cell_type": "markdown",
   "metadata": {},
   "source": []
  }
 ],
 "metadata": {
  "kernelspec": {
   "display_name": "tonality_test",
   "language": "python",
   "name": "python3"
  },
  "language_info": {
   "codemirror_mode": {
    "name": "ipython",
    "version": 3
   },
   "file_extension": ".py",
   "mimetype": "text/x-python",
   "name": "python",
   "nbconvert_exporter": "python",
   "pygments_lexer": "ipython3",
   "version": "3.11.5"
  }
 },
 "nbformat": 4,
 "nbformat_minor": 2
}
