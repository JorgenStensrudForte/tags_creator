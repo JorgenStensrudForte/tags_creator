{
 "cells": [
  {
   "cell_type": "code",
   "execution_count": 2,
   "metadata": {},
   "outputs": [],
   "source": [
    "import pandas as pd"
   ]
  },
  {
   "cell_type": "code",
   "execution_count": 3,
   "metadata": {},
   "outputs": [],
   "source": [
    "df_new = pd.read_excel(\"data/df_tags_use_app_22_11_issoftware.xlsx\")\n",
    "df_new.to_csv(\"data/df_tags_use_app_22_11_issoftware2.csv\", index=False)"
   ]
  },
  {
   "cell_type": "code",
   "execution_count": 17,
   "metadata": {},
   "outputs": [],
   "source": [
    "import ast\n",
    "def extract_tags(tags_str):\n",
    "    tags_obj = ast.literal_eval(tags_str)\n",
    "    if isinstance(tags_obj, dict):\n",
    "        tags_values = tags_obj.values()\n",
    "    elif isinstance(tags_obj, tuple):\n",
    "        tags_values = tags_obj\n",
    "    else:\n",
    "        raise ValueError(f\"Unexpected type {type(tags_obj)}: {tags_obj}\")\n",
    "    \n",
    "    tags_list = []\n",
    "    for value in tags_values:\n",
    "        if isinstance(value, list):\n",
    "            tags_list.append(', '.join(map(str.strip, value)))\n",
    "        elif isinstance(value, dict):\n",
    "            tags_list.append(str(value))\n",
    "        else:\n",
    "            tags_list.append(value.strip())\n",
    "    return ', '.join(tags_list)"
   ]
  },
  {
   "cell_type": "code",
   "execution_count": 18,
   "metadata": {},
   "outputs": [
    {
     "name": "stdout",
     "output_type": "stream",
     "text": [
      "280\n",
      "209\n"
     ]
    }
   ],
   "source": [
    "df_with_many_tags = pd.read_csv(\"data/tags_27_11.csv\")\n",
    "print(len(df_with_many_tags))\n",
    "df_with_many_tags['product_tags'] = df_with_many_tags['product_tags'].apply(extract_tags)\n",
    "# combine all the tags with same product_name into one row. Let the name be the same as the first row, but for tags, combine them into two lists of tags. For the category, combine them into a list of categories. For website_url, image_url, choose the first one. \n",
    "df_with_many_tags = df_with_many_tags.groupby('Product_Name').agg({\n",
    "    'product_tags': lambda x: ', '.join(map(str.strip, x)),\n",
    "    'Product category': lambda x: ', '.join(map(str.strip, x)),\n",
    "    'url': 'first',\n",
    "    'image_url': 'first'\n",
    "}).reset_index()\n",
    "print(len(df_with_many_tags))\n",
    "\n",
    "# save to excel\n",
    "df_with_many_tags.to_excel(\"data/df_with_many_tags_27_11.xlsx\", index=False)"
   ]
  },
  {
   "cell_type": "code",
   "execution_count": null,
   "metadata": {},
   "outputs": [],
   "source": []
  }
 ],
 "metadata": {
  "kernelspec": {
   "display_name": "tonality_test",
   "language": "python",
   "name": "python3"
  },
  "language_info": {
   "codemirror_mode": {
    "name": "ipython",
    "version": 3
   },
   "file_extension": ".py",
   "mimetype": "text/x-python",
   "name": "python",
   "nbconvert_exporter": "python",
   "pygments_lexer": "ipython3",
   "version": "3.11.5"
  }
 },
 "nbformat": 4,
 "nbformat_minor": 2
}
