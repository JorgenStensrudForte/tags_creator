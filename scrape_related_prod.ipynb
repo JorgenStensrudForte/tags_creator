{
 "cells": [
  {
   "cell_type": "code",
   "execution_count": 5,
   "metadata": {},
   "outputs": [],
   "source": [
    "import requests\n",
    "from bs4 import BeautifulSoup\n",
    "import pandas as pd\n",
    "import json"
   ]
  },
  {
   "cell_type": "code",
   "execution_count": 6,
   "metadata": {},
   "outputs": [],
   "source": [
    "df = pd.read_excel(\"./data/all_products_18_12.xlsx\")\n"
   ]
  },
  {
   "cell_type": "code",
   "execution_count": 7,
   "metadata": {},
   "outputs": [],
   "source": [
    "def find_related_products(url):\n",
    "    response = requests.get(url)\n",
    "    html = response.text\n",
    "\n",
    "    soup = BeautifulSoup(html, 'html.parser')\n",
    "\n",
    "    soup_text = str(soup)\n",
    "\n",
    "    related_section = soup.find(\"section\", id=\"relatedProducts\")\n",
    "    \n",
    "\n",
    "    if related_section:\n",
    "        title = related_section.find(\"h2\").text.strip()\n",
    "        links = [a['href'] for a in related_section.find_all(\"a\", href=True)]\n",
    "        link_titles = [h.text.strip() for h in related_section.find_all(\"h3\")]\n",
    "        hrefs = {title: 'https://www.kongsberg.com' + link if link.startswith('/') else link for title, link in zip(link_titles, links)}\n",
    "        hrefs = json.dumps(hrefs)\n",
    "        return hrefs\n",
    "    \n",
    "    return None\n",
    "\n"
   ]
  },
  {
   "cell_type": "code",
   "execution_count": 8,
   "metadata": {},
   "outputs": [],
   "source": [
    "df[\"related\"] = df.apply(lambda row: find_related_products(row[\"url\"]) if pd.notna(row[\"url\"]) else None, axis=1)"
   ]
  },
  {
   "cell_type": "code",
   "execution_count": null,
   "metadata": {},
   "outputs": [],
   "source": [
    "df.to_excel(\"./data/all_products_18_12.xlsx\")"
   ]
  }
 ],
 "metadata": {
  "kernelspec": {
   "display_name": "venv",
   "language": "python",
   "name": "python3"
  },
  "language_info": {
   "codemirror_mode": {
    "name": "ipython",
    "version": 3
   },
   "file_extension": ".py",
   "mimetype": "text/x-python",
   "name": "python",
   "nbconvert_exporter": "python",
   "pygments_lexer": "ipython3",
   "version": "3.11.7"
  }
 },
 "nbformat": 4,
 "nbformat_minor": 2
}
