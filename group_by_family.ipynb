{
 "cells": [
  {
   "cell_type": "code",
   "execution_count": 353,
   "metadata": {},
   "outputs": [],
   "source": [
    "import pandas as pd\n",
    "import numpy as np\n",
    "import math\n",
    "import json"
   ]
  },
  {
   "cell_type": "code",
   "execution_count": 354,
   "metadata": {},
   "outputs": [],
   "source": [
    "df = pd.read_excel(\"data/all_products_19_12_2.xlsx\")"
   ]
  },
  {
   "cell_type": "code",
   "execution_count": 355,
   "metadata": {},
   "outputs": [],
   "source": [
    "df = df.drop([\"grouped_data_sheets\", \"Unnamed: 0.1\"], axis=1)"
   ]
  },
  {
   "cell_type": "code",
   "execution_count": 356,
   "metadata": {},
   "outputs": [],
   "source": [
    "# Filter the DataFrame where 'is_range' is 1\n",
    "df_filtered = df[df['is_range'] == 1]\n",
    "\n",
    "# Group by 'product_family_name' and aggregate 'Data sheets'\n",
    "# Group by 'product_family_name' and aggregate 'Data sheets'\n",
    "grouped = df_filtered.groupby('product_family_name')['Product_Name'].apply(lambda x: list(set(x)))\n",
    "#print grouped line 1 \n",
    "# print(grouped[0])\n",
    "# Convert the grouped Series into a DataFrame\n",
    "grouped_df = grouped.reset_index()\n",
    "grouped_df.columns = ['product_family_name', 'grouped_data_sheets']\n",
    "\n",
    "# Merge the grouped_df into the original df\n",
    "df_with_group = pd.merge(df, grouped_df, on='product_family_name', how='left')\n",
    "\n",
    "# change the order of the columns to add the new column 'grouped_data_sheets' right after is_range\n",
    "cols = df_with_group.columns.tolist()\n",
    "cols.insert(13, cols.pop(cols.index('grouped_data_sheets')))\n",
    "df_with_group = df_with_group.reindex(columns= cols)\n",
    "\n"
   ]
  },
  {
   "cell_type": "code",
   "execution_count": 357,
   "metadata": {},
   "outputs": [],
   "source": [
    "for i in df_with_group.index:\n",
    "    if type(df_with_group.at[i, 'grouped_data_sheets']) == float:\n",
    "        df_with_group.at[i, 'grouped_data_sheets'] = []\n",
    "    if type(df_with_group.at[i, 'related']) == float:\n",
    "        df_with_group.at[i, 'related'] = []\n",
    "    else:\n",
    "        df_with_group.at[i, 'related'] = list(json.loads(df_with_group.at[i, 'related']).keys())\n"
   ]
  },
  {
   "cell_type": "code",
   "execution_count": 358,
   "metadata": {},
   "outputs": [
    {
     "data": {
      "text/plain": [
       "[]"
      ]
     },
     "execution_count": 358,
     "metadata": {},
     "output_type": "execute_result"
    }
   ],
   "source": [
    "df_with_group.at[i, 'related']"
   ]
  },
  {
   "cell_type": "code",
   "execution_count": 359,
   "metadata": {},
   "outputs": [],
   "source": [
    "df_with_group[\"grouped_data_sheets\"] = df_with_group.apply(lambda row: json.dumps({\"productRange\": row[\"grouped_data_sheets\"], \"relatedProducts\": row[\"related\"]}), axis=1)"
   ]
  },
  {
   "cell_type": "code",
   "execution_count": 360,
   "metadata": {},
   "outputs": [
    {
     "data": {
      "text/plain": [
       "'{\"productRange\": [\"38 kHz Single-beam transducer\", \"500 KHZ TRANSDUCER\", \"120 kHz single-beam transducer\", \"18 kHz single-beam transducer\", \"Combi 50/200 D\", \"Transducer 15 - 17\", \"Simrad 38/200 D\", \"SIDESCAN 500 KHZ\", \"200 kHz single-beam transducer in robust housing\", \"12 kHz dual-beam transducer\", \"Simrad 38-9\", \"50 kHz Single-beam transducer\", \"TRANSDUCER 200-3G\"], \"relatedProducts\": [\"Simrad 38-7\"]}'"
      ]
     },
     "execution_count": 360,
     "metadata": {},
     "output_type": "execute_result"
    }
   ],
   "source": [
    "df_with_group[\"grouped_data_sheets\"][1]"
   ]
  },
  {
   "cell_type": "code",
   "execution_count": 361,
   "metadata": {},
   "outputs": [],
   "source": [
    "df_with_group = df_with_group.drop(columns=[\"product_family_name\", \"is_range\", \"related\"])"
   ]
  },
  {
   "cell_type": "code",
   "execution_count": 362,
   "metadata": {},
   "outputs": [],
   "source": [
    "df_with_group.to_excel(\"data/all_products_19_12.xlsx\", index=False)"
   ]
  }
 ],
 "metadata": {
  "kernelspec": {
   "display_name": "tonality_test",
   "language": "python",
   "name": "python3"
  },
  "language_info": {
   "codemirror_mode": {
    "name": "ipython",
    "version": 3
   },
   "file_extension": ".py",
   "mimetype": "text/x-python",
   "name": "python",
   "nbconvert_exporter": "python",
   "pygments_lexer": "ipython3",
   "version": "3.11.7"
  }
 },
 "nbformat": 4,
 "nbformat_minor": 2
}
