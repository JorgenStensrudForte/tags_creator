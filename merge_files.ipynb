{
 "cells": [
  {
   "cell_type": "code",
   "execution_count": 1,
   "metadata": {},
   "outputs": [],
   "source": [
    "import pandas as pd\n",
    "import numpy as np\n"
   ]
  },
  {
   "cell_type": "code",
   "execution_count": 5,
   "metadata": {},
   "outputs": [
    {
     "name": "stdout",
     "output_type": "stream",
     "text": [
      "Index(['Product_Name', 'Product category', 'Introduction', 'Block1', 'Block2',\n",
      "       'Block3', 'formated_technical_specs', 'Features', 'url', 'Data sheets',\n",
      "       'downloads', 'product_family_name', 'is_range', 'Hero Image',\n",
      "       'Other Image'],\n",
      "      dtype='object')\n"
     ]
    }
   ],
   "source": [
    "all_products = pd.read_excel(\"data/12_15/All Products.xlsx\")\n",
    "# remove the column Technical Specifications\n",
    "all_products = all_products.drop(columns=[\"Technical Specifications\"])\n",
    "\n",
    "all_products_technical = pd.read_excel(\"data/all_products_technical_formated.xlsx\", usecols=[\"Product_Name\", \"formated_technical_specs\"])\n",
    "\n",
    "# merge on product name and product category\n",
    "merged_df = pd.merge(all_products, all_products_technical, on=[\"Product_Name\"], how=\"left\")\n",
    "\n",
    "# reorder the technical specs column to be after features\n",
    "cols = merged_df.columns.tolist()\n",
    "cols = cols[:7] + cols[-1:] + cols[7:-1]\n",
    "merged_df = merged_df[cols]\n",
    "\n",
    "#remove Unnamed:0 column\n",
    "merged_df = merged_df.drop(columns=[\"Unnamed: 0\"])\n",
    "\n",
    "\n",
    "\n",
    "print(merged_df.columns)\n",
    "# all_products_ai_category.to_excel(\"data/all_products_ai_category.xlsx\", index=False)\n",
    "# all_products_ai_category.to_csv(\"data/all_products_ai_category.csv\", index=False)"
   ]
  },
  {
   "cell_type": "code",
   "execution_count": 10,
   "metadata": {},
   "outputs": [],
   "source": [
    "\n",
    "all_products_software = pd.read_excel(\"data/12_15/software_tags12_15_13.xlsx\", usecols=[\"Product_Name\", \"is_software\"])\n",
    "\n",
    "# merge on product name and product category\n",
    "merged_df_software = pd.merge(merged_df, all_products_software, on=[\"Product_Name\"], how=\"left\")"
   ]
  },
  {
   "cell_type": "code",
   "execution_count": 14,
   "metadata": {},
   "outputs": [],
   "source": [
    "merged_df_tags.to_excel(\"data/12_15/merged_df.xlsx\", index=False)"
   ]
  }
 ],
 "metadata": {
  "kernelspec": {
   "display_name": "tonality_test",
   "language": "python",
   "name": "python3"
  },
  "language_info": {
   "codemirror_mode": {
    "name": "ipython",
    "version": 3
   },
   "file_extension": ".py",
   "mimetype": "text/x-python",
   "name": "python",
   "nbconvert_exporter": "python",
   "pygments_lexer": "ipython3",
   "version": "3.11.5"
  }
 },
 "nbformat": 4,
 "nbformat_minor": 2
}
