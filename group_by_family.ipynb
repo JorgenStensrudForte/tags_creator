{
 "cells": [
  {
   "cell_type": "code",
   "execution_count": 2,
   "metadata": {},
   "outputs": [],
   "source": [
    "import pandas as pd\n",
    "import numpy as np\n"
   ]
  },
  {
   "cell_type": "code",
   "execution_count": 3,
   "metadata": {},
   "outputs": [],
   "source": [
    "df = pd.read_excel(\"data/12_15/merged_df.xlsx\")"
   ]
  },
  {
   "cell_type": "code",
   "execution_count": 23,
   "metadata": {},
   "outputs": [],
   "source": [
    "# Filter the DataFrame where 'is_range' is 1\n",
    "df_filtered = df[df['is_range'] == 1]\n",
    "\n",
    "# Group by 'product_family_name' and aggregate 'Data sheets'\n",
    "# Group by 'product_family_name' and aggregate 'Data sheets'\n",
    "grouped = df_filtered.groupby('product_family_name')['Data sheets'].apply(lambda x: list(set(x)))\n",
    "#print grouped line 1 \n",
    "# print(grouped[0])\n",
    "# Convert the grouped Series into a DataFrame\n",
    "grouped_df = grouped.reset_index()\n",
    "grouped_df.columns = ['product_family_name', 'grouped_data_sheets']\n",
    "\n",
    "# Merge the grouped_df into the original df\n",
    "df_with_group = pd.merge(df, grouped_df, on='product_family_name', how='left')\n",
    "\n",
    "# change the order of the columns to add the new column 'grouped_data_sheets' right after is_range\n",
    "cols = df_with_group.columns.tolist()\n",
    "cols.insert(13, cols.pop(cols.index('grouped_data_sheets')))\n",
    "df_with_group = df_with_group.reindex(columns= cols)\n",
    "\n"
   ]
  },
  {
   "cell_type": "code",
   "execution_count": 24,
   "metadata": {},
   "outputs": [],
   "source": [
    "df_with_group.to_excel(\"data/12_15/merged_df_grouped.xlsx\", index=False)"
   ]
  }
 ],
 "metadata": {
  "kernelspec": {
   "display_name": "tonality_test",
   "language": "python",
   "name": "python3"
  },
  "language_info": {
   "codemirror_mode": {
    "name": "ipython",
    "version": 3
   },
   "file_extension": ".py",
   "mimetype": "text/x-python",
   "name": "python",
   "nbconvert_exporter": "python",
   "pygments_lexer": "ipython3",
   "version": "3.11.5"
  }
 },
 "nbformat": 4,
 "nbformat_minor": 2
}
