{
 "cells": [
  {
   "cell_type": "code",
   "execution_count": 19,
   "metadata": {},
   "outputs": [],
   "source": [
    "import requests\n",
    "from bs4 import BeautifulSoup\n",
    "import pandas as pd\n",
    "import json"
   ]
  },
  {
   "cell_type": "code",
   "execution_count": 20,
   "metadata": {},
   "outputs": [],
   "source": [
    "def update_section_name(section_name):\n",
    "    if \"data sheet\" in section_name.lower():\n",
    "        section_name = \"Data sheet\"\n",
    "    elif \"application note\" in section_name.lower():\n",
    "        section_name = \"Application note\"\n",
    "    elif \"technical note\" in section_name.lower():\n",
    "        section_name = \"Technical note\"\n",
    "    elif \"manual\" in section_name.lower():\n",
    "        section_name = \"Manual\"\n",
    "    elif \"article\" in section_name.lower():\n",
    "        section_name = \"Article\"\n",
    "    elif \"end-user documentation\" in section_name.lower():\n",
    "        section_name = \"End-user documentation\"\n",
    "    else:\n",
    "        section_name = section_name\n",
    "    return section_name"
   ]
  },
  {
   "cell_type": "code",
   "execution_count": 21,
   "metadata": {},
   "outputs": [],
   "source": [
    "different_section_names = []\n"
   ]
  },
  {
   "cell_type": "code",
   "execution_count": 22,
   "metadata": {},
   "outputs": [],
   "source": [
    "df = pd.read_excel(\"./data/all_products_18_12_2.xlsx\")\n"
   ]
  },
  {
   "cell_type": "code",
   "execution_count": 23,
   "metadata": {},
   "outputs": [],
   "source": [
    "def find_downloads(url):\n",
    "    response = requests.get(url)\n",
    "    html = response.text\n",
    "\n",
    "    # Parse the HTML\n",
    "    soup = BeautifulSoup(html, 'html.parser')\n",
    "    hrefs = {\"Heading\": \"Downloads\",\n",
    "            \"Sections\": []}\n",
    "\n",
    "    for subtitle in soup.find_all(\"h3\", class_=\"Section__subtitle\"):\n",
    "        section_name = subtitle.text.strip()\n",
    "        section_name = update_section_name(section_name)\n",
    "        if section_name == 'Stay in touch for product information and software updates':\n",
    "            break\n",
    "        if section_name not in different_section_names:\n",
    "            different_section_names.append(section_name)\n",
    "        \n",
    "        downloads_names = [span.text.strip() for span in subtitle.find_next_sibling(\"ul\").find_all(\"span\")]\n",
    "        links = [a['href'] for a in subtitle.find_next_sibling(\"ul\").find_all(\"a\", href=True)]\n",
    "\n",
    "        link_list = []\n",
    "        for name, link in zip(downloads_names, links):\n",
    "            if not link.endswith(\".aspx\") and not link.startswith(\"~\") and not link.startswith(\"#\"):\n",
    "                link_dict = {\n",
    "                    \"Text\": name,\n",
    "                    \"Href\": link,\n",
    "                    \"Title\": None,\n",
    "                    \"Target\": None}\n",
    "                link_list.append(link_dict)\n",
    "        if link_list:\n",
    "            hrefs[\"Sections\"].append({\"Heading\": section_name, \"Links\": link_list})\n",
    "\n",
    "        # hrefs = {\"Heading\": \"Downloads\", \"Sections\": [{\"Heading\": name, \"Links\": 'https://www.kongsberg.com' + link if link.startswith('/') else link for name, link in zip(downloads_name, links)}]\n",
    "\n",
    "    \n",
    "\n",
    "    for section in soup.find_all(\"section\"):\n",
    "        links = []\n",
    "        downloads_names = []\n",
    "        title_tag = soup.find('h2', class_='Section__title', text='Additional product information')\n",
    "        download_tag = soup.find('h2', class_='Section__title', text='Downloads')\n",
    "        if title_tag and not hrefs[\"Sections\"]:\n",
    "            section_name = title_tag.text.strip()\n",
    "            if section_name not in different_section_names:\n",
    "                different_section_names.append(section_name)            \n",
    "            for link_tag in section.find_all(\"a\", href=True):\n",
    "                link_href = link_tag['href']\n",
    "                links.append(link_href)\n",
    "                if link_tag.find(\"span\"):\n",
    "                    downloads_names.append(link_tag.find(\"span\").text.strip())\n",
    "                else:\n",
    "                    downloads_names.append(link_tag.text.strip())\n",
    "\n",
    "        elif download_tag and not hrefs[\"Sections\"]:\n",
    "            section_name = download_tag.text.strip()\n",
    "            if section_name not in different_section_names:\n",
    "                different_section_names.append(section_name)\n",
    "            downloads_container = download_tag.find_next_sibling(\"div\")\n",
    "            for link_tag in downloads_container.find_all(\"a\", href=True):\n",
    "                link_href = link_tag['href']\n",
    "                links.append(link_href)\n",
    "                if link_tag.find(\"span\"):\n",
    "                    downloads_names.append(link_tag.find(\"span\").text.strip())\n",
    "                else:\n",
    "                    downloads_names.append(link_tag.text.strip())\n",
    "            \n",
    "        else:\n",
    "            break\n",
    "        link_list = []\n",
    "        for name, link in zip(downloads_names, links):\n",
    "            if not link.endswith(\".aspx\") and not link.startswith(\"~\") and not link.startswith(\"#\"):\n",
    "                link_dict = {\n",
    "                    \"Text\": name,\n",
    "                    \"Href\": link,\n",
    "                    \"Title\": None,\n",
    "                    \"Target\": None}\n",
    "                link_list.append(link_dict)\n",
    "        if link_list:\n",
    "            hrefs[\"Sections\"].append({\"Heading\": section_name, \"Links\": link_list})\n",
    "    if hrefs[\"Sections\"]:\n",
    "        return hrefs\n",
    "    return None\n"
   ]
  },
  {
   "cell_type": "code",
   "execution_count": 24,
   "metadata": {},
   "outputs": [
    {
     "name": "stderr",
     "output_type": "stream",
     "text": [
      "C:\\Users\\HerborgHermansenTvei\\AppData\\Local\\Temp\\ipykernel_15248\\3796367043.py:40: DeprecationWarning: The 'text' argument to find()-type methods is deprecated. Use 'string' instead.\n",
      "  title_tag = soup.find('h2', class_='Section__title', text='Additional product information')\n",
      "C:\\Users\\HerborgHermansenTvei\\AppData\\Local\\Temp\\ipykernel_15248\\3796367043.py:41: DeprecationWarning: The 'text' argument to find()-type methods is deprecated. Use 'string' instead.\n",
      "  download_tag = soup.find('h2', class_='Section__title', text='Downloads')\n"
     ]
    }
   ],
   "source": [
    "df[\"downloads\"] = df.apply(lambda row: find_downloads(row[\"url\"]) if pd.notna(row[\"url\"]) else {\"Heading\": \"Downloads\", \n",
    "                                                                                                \"Sections\": [{\n",
    "                                                                                                    \"Heading\": \"Data sheet\", \"Links\": [{\n",
    "                                                                                                                                    \"Text\": \"Data sheet\",\n",
    "                                                                                                                                    \"Href\": row[\"Data sheets\"],\n",
    "                                                                                                                                    \"Title\": None,\n",
    "                                                                                                                                    \"Target\": None}]}]}, axis=1)\n"
   ]
  },
  {
   "cell_type": "code",
   "execution_count": null,
   "metadata": {},
   "outputs": [],
   "source": [
    "def dict_to_json(row):\n",
    "    return json.dumps(row)\n",
    "\n",
    "# Apply the function to the 'downloads' column\n",
    "df['downloads'] = df['downloads'].apply(dict_to_json)"
   ]
  },
  {
   "cell_type": "code",
   "execution_count": null,
   "metadata": {},
   "outputs": [],
   "source": [
    "df.to_excel(\"./data/all_products_18_12_2.xlsx\")"
   ]
  }
 ],
 "metadata": {
  "kernelspec": {
   "display_name": "venv",
   "language": "python",
   "name": "python3"
  },
  "language_info": {
   "codemirror_mode": {
    "name": "ipython",
    "version": 3
   },
   "file_extension": ".py",
   "mimetype": "text/x-python",
   "name": "python",
   "nbconvert_exporter": "python",
   "pygments_lexer": "ipython3",
   "version": "3.11.7"
  }
 },
 "nbformat": 4,
 "nbformat_minor": 2
}
