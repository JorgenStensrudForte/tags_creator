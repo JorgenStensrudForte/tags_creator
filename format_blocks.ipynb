{
 "cells": [
  {
   "cell_type": "code",
   "execution_count": 4,
   "metadata": {},
   "outputs": [],
   "source": [
    "import pandas as pd\n",
    "import json"
   ]
  },
  {
   "cell_type": "code",
   "execution_count": 35,
   "metadata": {},
   "outputs": [],
   "source": [
    "\n",
    "\n",
    "products = pd.read_excel(\"data/12_15/all_products_7.xlsx\", usecols=[\"Introduction\", \"Block1\", \"Block2\", \"Block3\", \"Specifications\", \"downloads\", \"product_tags\", \"grouped_data_sheets\"])"
   ]
  },
  {
   "cell_type": "code",
   "execution_count": null,
   "metadata": {},
   "outputs": [],
   "source": [
    "import re\n",
    "\n",
    "error_count = 0\n",
    "\n",
    "for column in range(products.shape[1]):\n",
    "    for index in range(products.shape[0]):\n",
    "        if not pd.isnull(products.iloc[index, column]):\n",
    "            row_test = products.iloc[index, column]\n",
    "\n",
    "            if products.columns[column] == 'Specifications':\n",
    "                row_test = re.sub(r'\\bTrue\\b', '\"True\"', row_test)\n",
    "\n",
    "            row_test = re.sub(r\"(?<=[:\\s{},])'|'(?=[:\\s{},])\", '\"', row_test)\n",
    "            row_test = re.sub(r\"(?<=\\w)\\\"(?=\\w)\", \"'\", row_test)\n",
    "\n",
    "            row_test = re.sub(r'\"\\{', '{', row_test)\n",
    "            row_test = re.sub(r'\\}\"', '}', row_test)\n",
    "\n",
    "            try:\n",
    "                modified_row = json.loads(row_test)\n",
    "                products.iloc[index, column] = row_test\n",
    "            except json.decoder.JSONDecodeError as e:\n",
    "                error_count += 1\n",
    "                print(\"_____________________________________________________________\")\n",
    "                print(f\"Error decoding product tags for product at index {index}, column {products.columns[column]}: {e}\")\n",
    "                error_position = e.pos\n",
    "                print(f\"String around the error position: {row_test[max(0, error_position-10):error_position+10]}\")\n",
    "                print(\"****\")\n",
    "                print(row_test)\n",
    "                print(\"_____________________________________________________________\")\n",
    "                products.iloc[index, column] = row_test\n",
    "\n",
    "print(f\"Total number of errors: {error_count}\")"
   ]
  },
  {
   "cell_type": "code",
   "execution_count": 43,
   "metadata": {},
   "outputs": [],
   "source": [
    "# products.to_excel(\"data/12_15/All Products (6).xlsx\", index=False)"
   ]
  },
  {
   "cell_type": "code",
   "execution_count": 63,
   "metadata": {},
   "outputs": [],
   "source": [
    "\n",
    "\n",
    "products = pd.read_excel(\"data/12_15/All Products (7).xlsx\", usecols=[\"Introduction\", \"Block1\", \"Block2\", \"Block3\", \"Specifications\", \"downloads\", \"product_tags\", \"grouped_data_sheets\"])"
   ]
  },
  {
   "cell_type": "code",
   "execution_count": 64,
   "metadata": {},
   "outputs": [
    {
     "name": "stdout",
     "output_type": "stream",
     "text": [
      "Total number of errors: 0\n"
     ]
    }
   ],
   "source": [
    "error_count = 0\n",
    "for column in range(products.shape[1]):\n",
    "    for index in range(products.shape[0]):\n",
    "        if not pd.isnull(products.iloc[index, column]):\n",
    "            row_test = products.iloc[index, column]\n",
    "\n",
    "            try:\n",
    "                modified_row = json.loads(row_test)\n",
    "            except json.decoder.JSONDecodeError as e:\n",
    "                error_count += 1\n",
    "                print(\"_____________________________________________________________\")\n",
    "                print(f\"Error decoding product tags for product at index {index}, column {products.columns[column]}: {e}\")\n",
    "                error_position = e.pos\n",
    "                print(f\"String around the error position: {row_test[max(0, error_position-10):error_position+10]}\")\n",
    "                print(\"****\")\n",
    "                print(row_test)\n",
    "                print(\"_____________________________________________________________\")\n",
    "\n",
    "print(f\"Total number of errors: {error_count}\")"
   ]
  }
 ],
 "metadata": {
  "kernelspec": {
   "display_name": "tonality_test",
   "language": "python",
   "name": "python3"
  },
  "language_info": {
   "codemirror_mode": {
    "name": "ipython",
    "version": 3
   },
   "file_extension": ".py",
   "mimetype": "text/x-python",
   "name": "python",
   "nbconvert_exporter": "python",
   "pygments_lexer": "ipython3",
   "version": "3.11.5"
  }
 },
 "nbformat": 4,
 "nbformat_minor": 2
}
