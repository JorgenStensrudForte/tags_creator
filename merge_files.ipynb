{
 "cells": [
  {
   "cell_type": "code",
   "execution_count": 1,
   "metadata": {},
   "outputs": [],
   "source": [
    "import pandas as pd\n",
    "import numpy as np\n"
   ]
  },
  {
   "cell_type": "code",
   "execution_count": null,
   "metadata": {},
   "outputs": [],
   "source": [
    "all_products_categories = pd.read_excel(\"data/all_products_category.xlsx\", usecols=[\"Product_Name\", \"Product category\"])\n",
    "\n",
    "all_products_ai = pd.read_excel(\"data/styrings_data/alle_produkter_ai_test.xlsx\")\n",
    "\n",
    "# merge on product name and product category\n",
    "all_products_ai_category = pd.merge(all_products_ai, all_products_categories, on=[\"Product_Name\"], how=\"left\")\n",
    "\n",
    "print(all_products_ai_category.columns)\n",
    "all_products_ai_category.to_excel(\"data/all_products_ai_category.xlsx\", index=False)\n",
    "all_products_ai_category.to_csv(\"data/all_products_ai_category.csv\", index=False)"
   ]
  }
 ],
 "metadata": {
  "kernelspec": {
   "display_name": "tonality_test",
   "language": "python",
   "name": "python3"
  },
  "language_info": {
   "codemirror_mode": {
    "name": "ipython",
    "version": 3
   },
   "file_extension": ".py",
   "mimetype": "text/x-python",
   "name": "python",
   "nbconvert_exporter": "python",
   "pygments_lexer": "ipython3",
   "version": "3.11.5"
  }
 },
 "nbformat": 4,
 "nbformat_minor": 2
}
